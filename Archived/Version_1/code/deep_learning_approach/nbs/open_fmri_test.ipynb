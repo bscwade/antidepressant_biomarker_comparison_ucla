{
 "cells": [
  {
   "cell_type": "code",
   "execution_count": 1,
   "metadata": {},
   "outputs": [
    {
     "name": "stdout",
     "output_type": "stream",
     "text": [
      "2.0.0\n"
     ]
    },
    {
     "name": "stderr",
     "output_type": "stream",
     "text": [
      "Using TensorFlow backend.\n"
     ]
    }
   ],
   "source": [
    "import pandas as pd\n",
    "import os\n",
    "import re\n",
    "import glob\n",
    "import nibabel as nib\n",
    "import numpy as np\n",
    "import tensorflow as tf\n",
    "print(tf.__version__)\n",
    "\n",
    "import random\n",
    "\n",
    "import keras\n",
    "from keras import backend as K\n",
    "from keras.utils import np_utils\n",
    "from keras.engine import Layer\n",
    "\n",
    "from keras.layers import Input, Dense, Convolution1D, Reshape, Flatten, BatchNormalization, Lambda, Dropout, Activation\n",
    "from keras.layers import Convolution3D, MaxPooling3D\n",
    "from keras.models import Model, Sequential\n",
    "from keras.models import model_from_json\n",
    "\n",
    "from keras.optimizers import SGD, RMSprop, Adam\n",
    "from keras.layers.advanced_activations import LeakyReLU\n",
    "from keras.preprocessing import image\n",
    "\n",
    "import datetime\n",
    "from itertools import compress\n",
    "from scipy.ndimage import zoom\n",
    "from matplotlib import pyplot as plt\n",
    "\n",
    "# Load the TensorBoard notebook extension\n",
    "%load_ext tensorboard\n",
    "\n",
    "# Show images\n",
    "%matplotlib inline "
   ]
  },
  {
   "cell_type": "code",
   "execution_count": 2,
   "metadata": {},
   "outputs": [],
   "source": [
    "#tf.device('/gpu:1')\n",
    "#tf.device('/device:GPU:0')\n",
    "#tf.test.gpu_device_name()"
   ]
  },
  {
   "cell_type": "code",
   "execution_count": 3,
   "metadata": {},
   "outputs": [
    {
     "name": "stderr",
     "output_type": "stream",
     "text": [
      "/home/ubuntu/anaconda3/envs/tensorflow_p36/lib/python3.6/site-packages/ipykernel_launcher.py:1: FutureWarning: read_table is deprecated, use read_csv instead, passing sep='\\t'.\n",
      "  \"\"\"Entry point for launching an IPython kernel.\n"
     ]
    }
   ],
   "source": [
    "dem = pd.read_table('/home/ubuntu/data/ds115_metadata/demographics.txt')"
   ]
  },
  {
   "cell_type": "code",
   "execution_count": 4,
   "metadata": {},
   "outputs": [
    {
     "name": "stdout",
     "output_type": "stream",
     "text": [
      "['sub-01', 'sub-02', 'sub-03', 'sub-04', 'sub-05', 'sub-06', 'sub-07', 'sub-08', 'sub-09', 'sub-10', 'sub-11', 'sub-12', 'sub-13', 'sub-14', 'sub-15', 'sub-16', 'sub-17', 'sub-18', 'sub-19', 'sub-20', 'sub-21', 'sub-22', 'sub-23', 'sub-24', 'sub-25', 'sub-26', 'sub-27', 'sub-28', 'sub-29', 'sub-30', 'sub-31', 'sub-32', 'sub-33', 'sub-34', 'sub-35', 'sub-36', 'sub-37', 'sub-38', 'sub-39', 'sub-40', 'sub-41', 'sub-42', 'sub-43', 'sub-44', 'sub-45', 'sub-46', 'sub-47', 'sub-48', 'sub-49', 'sub-50', 'sub-51', 'sub-52', 'sub-53', 'sub-54', 'sub-55', 'sub-56', 'sub-57', 'sub-58', 'sub-59', 'sub-60', 'sub-61', 'sub-62', 'sub-63', 'sub-64', 'sub-65', 'sub-66', 'sub-67', 'sub-68', 'sub-69', 'sub-70', 'sub-71', 'sub-72', 'sub-73', 'sub-74', 'sub-75', 'sub-76', 'sub-77', 'sub-78', 'sub-79', 'sub-80', 'sub-81', 'sub-82', 'sub-83', 'sub-84', 'sub-85', 'sub-86', 'sub-87', 'sub-88', 'sub-89', 'sub-90', 'sub-91', 'sub-92', 'sub-93', 'sub-94', 'sub-95', 'sub-96', 'sub-97', 'sub-98', 'sub-99', 'sub-100', 'sub-101', 'sub-102']\n"
     ]
    }
   ],
   "source": [
    "sid_fixed = []\n",
    "\n",
    "for i in dem['subcode']:\n",
    "    tmp_str = re.sub('sub', 'sub-', i)\n",
    "    tmp_str = re.sub('-00', '-0', tmp_str)\n",
    "    \n",
    "    if len(tmp_str) == 7 and tmp_str.split('-')[1][0] == '0':\n",
    "        sid_fixed.append(re.sub('sub-0', 'sub-', tmp_str))\n",
    "    else:\n",
    "        sid_fixed.append(tmp_str)\n",
    "\n",
    "print(sid_fixed)"
   ]
  },
  {
   "cell_type": "code",
   "execution_count": 5,
   "metadata": {},
   "outputs": [],
   "source": [
    "dem['sid_fixed'] = sid_fixed"
   ]
  },
  {
   "cell_type": "code",
   "execution_count": 6,
   "metadata": {},
   "outputs": [],
   "source": [
    "paths = []\n",
    "for i in dem['sid_fixed']:\n",
    "    paths.append(glob.glob('/home/ubuntu/data/ds000115_R2.0.0/' + i + '/anat/*.nii.gz'))"
   ]
  },
  {
   "cell_type": "code",
   "execution_count": 7,
   "metadata": {},
   "outputs": [],
   "source": [
    "dem['t1_paths'] = paths"
   ]
  },
  {
   "cell_type": "code",
   "execution_count": 8,
   "metadata": {},
   "outputs": [],
   "source": [
    "scz_t1_paths = dem[(dem['condit']=='SCZ') | (dem['condit']=='SCZ-SIB')]['t1_paths']\n",
    "con_t1_paths = dem[(dem['condit']=='CON') | (dem['condit']=='CON-SIB')]['t1_paths']"
   ]
  },
  {
   "cell_type": "code",
   "execution_count": 9,
   "metadata": {},
   "outputs": [
    {
     "name": "stdout",
     "output_type": "stream",
     "text": [
      "60\n",
      "42\n"
     ]
    }
   ],
   "source": [
    "print(len(scz_t1_paths))\n",
    "print(len(con_t1_paths))"
   ]
  },
  {
   "cell_type": "code",
   "execution_count": 10,
   "metadata": {},
   "outputs": [],
   "source": [
    "scz_t1_paths = [str(path) for path in scz_t1_paths]\n",
    "con_t1_paths = [str(path) for path in con_t1_paths]"
   ]
  },
  {
   "cell_type": "code",
   "execution_count": 11,
   "metadata": {},
   "outputs": [],
   "source": [
    "sz_labs = [\"SZ\"] * len(scz_t1_paths)\n",
    "con_labs = [\"CON\"] * len(con_t1_paths)"
   ]
  },
  {
   "cell_type": "code",
   "execution_count": 12,
   "metadata": {},
   "outputs": [
    {
     "name": "stdout",
     "output_type": "stream",
     "text": [
      "('CON', 'CON', 'CON', 'SZ', 'SZ')\n",
      "(\"['/home/ubuntu/data/ds000115_R2.0.0/sub-43/anat/sub-43_T1w.nii.gz']\", \"['/home/ubuntu/data/ds000115_R2.0.0/sub-64/anat/sub-64_T1w.nii.gz']\", \"['/home/ubuntu/data/ds000115_R2.0.0/sub-56/anat/sub-56_T1w.nii.gz']\", \"['/home/ubuntu/data/ds000115_R2.0.0/sub-39/anat/sub-39_T1w.nii.gz']\", \"['/home/ubuntu/data/ds000115_R2.0.0/sub-02/anat/sub-02_T1w.nii.gz']\")\n"
     ]
    }
   ],
   "source": [
    "# Function to jointly shuffle labels and paths to facilitate training and testing\n",
    "def shuffle_xy(sz_labs, con_labs, scz_t1_paths, con_t1_paths):\n",
    "    \n",
    "    random.seed(4)\n",
    "    \n",
    "    # join labels and paths across diagnoses\n",
    "    labs_cat = sz_labs + con_labs\n",
    "    paths_cat = scz_t1_paths + con_t1_paths\n",
    "    \n",
    "    # jointly shuffle two lists\n",
    "    mapIndexPosition = list(zip(labs_cat, paths_cat))\n",
    "    random.shuffle(mapIndexPosition)\n",
    "    labs_cat_shuff, paths_cat_shuff = zip(*mapIndexPosition)\n",
    "    \n",
    "    return labs_cat_shuff, paths_cat_shuff\n",
    "\n",
    "labels_shuffled, paths_shuffled = shuffle_xy(sz_labs, con_labs, scz_t1_paths, con_t1_paths)\n",
    "\n",
    "print(labels_shuffled[0:5])\n",
    "print(paths_shuffled[0:5])"
   ]
  },
  {
   "cell_type": "code",
   "execution_count": 13,
   "metadata": {},
   "outputs": [],
   "source": [
    "# Drop 'null' cases\n",
    "drop_idx=[i != '[]' for i in paths_shuffled]\n",
    "\n",
    "paths_shuffled=list(compress(paths_shuffled, drop_idx))\n",
    "labels_shuffled=list(compress(labels_shuffled, drop_idx))\n",
    "\n",
    "assert len(paths_shuffled) == len(labels_shuffled)"
   ]
  },
  {
   "cell_type": "code",
   "execution_count": 14,
   "metadata": {},
   "outputs": [],
   "source": [
    "def load_dataset():\n",
    "    \n",
    "    def reshape_image(img,x,y,z):\n",
    "        resized=zoom(img, (1,x,y,z))\n",
    "        return resized\n",
    "\n",
    "    def load_mri(fid):\n",
    "        # fix fid\n",
    "        filepath = str(fid[2:-2])\n",
    "\n",
    "        # load data\n",
    "        im = nib.load(filepath)\n",
    "        im = im.dataobj\n",
    "        im = np.expand_dims(im, axis=0) # unsure if this is needed but feels more consistent to have dimension (n, z, x, y)\n",
    "        \n",
    "        im=reshape_image(im, .85, .78, .78)\n",
    "        \n",
    "        return im\n",
    "    \n",
    "    # load training data\n",
    "    training_data = load_mri(paths_shuffled[0])\n",
    "    \n",
    "    for f in range(1,5):\n",
    "        tmp_data = load_mri(paths_shuffled[f])\n",
    "        training_data = np.vstack((training_data, tmp_data))\n",
    "    \n",
    "    training_labels = labels_shuffled[0:5]\n",
    "    \n",
    "    # load validation data\n",
    "    validation_data = load_mri(paths_shuffled[6])\n",
    "    \n",
    "    for v in range(7,10):\n",
    "        tmp_val_data = load_mri(paths_shuffled[v])\n",
    "        validation_data = np.vstack((validation_data, tmp_val_data))\n",
    "    \n",
    "    validation_labels = labels_shuffled[6:10]\n",
    "    \n",
    "    return training_data, training_labels, validation_data, validation_labels    "
   ]
  },
  {
   "cell_type": "code",
   "execution_count": 15,
   "metadata": {},
   "outputs": [
    {
     "name": "stderr",
     "output_type": "stream",
     "text": [
      "/home/ubuntu/anaconda3/envs/tensorflow_p36/lib/python3.6/site-packages/scipy/ndimage/interpolation.py:611: UserWarning: From scipy 0.13.0, the output shape of zoom() is calculated with round() instead of int() - for these inputs the size of the returned array has changed.\n",
      "  \"the returned array has changed.\", UserWarning)\n"
     ]
    }
   ],
   "source": [
    "training_data, training_labels, validation_data, validation_labels = load_dataset()"
   ]
  },
  {
   "cell_type": "code",
   "execution_count": 16,
   "metadata": {},
   "outputs": [],
   "source": [
    "# One-hot encode labels\n",
    "def one_hot_encoder(labs):\n",
    "    tmp=[int(i=='CON') for i in labs]\n",
    "    return tf.keras.utils.to_categorical(tmp)\n",
    "\n",
    "training_labels_ohe=one_hot_encoder(training_labels)\n",
    "validation_labels_ohe=one_hot_encoder(validation_labels)"
   ]
  },
  {
   "cell_type": "code",
   "execution_count": 17,
   "metadata": {},
   "outputs": [],
   "source": [
    "# Add channel? https://stackoverflow.com/questions/47665391/keras-valueerror-input-0-is-incompatible-with-layer-conv2d-1-expected-ndim-4\n",
    "training_data=training_data.reshape(training_data.shape[0],training_data.shape[1],training_data.shape[2],training_data.shape[3],1)\n",
    "validation_data=validation_data.reshape(validation_data.shape[0],validation_data.shape[1],validation_data.shape[2],validation_data.shape[3],1)"
   ]
  },
  {
   "cell_type": "code",
   "execution_count": 18,
   "metadata": {},
   "outputs": [
    {
     "data": {
      "text/plain": [
       "<matplotlib.image.AxesImage at 0x7fd6767cb6d8>"
      ]
     },
     "execution_count": 18,
     "metadata": {},
     "output_type": "execute_result"
    },
    {
     "data": {
      "image/png": "[encoded data removed]",
      "text/plain": [
       "<Figure size 432x288 with 1 Axes>"
      ]
     },
     "metadata": {},
     "output_type": "display_data"
    }
   ],
   "source": [
    "plt.imshow(training_data[3][100,:,:,0])"
   ]
  },
  {
   "cell_type": "code",
   "execution_count": 19,
   "metadata": {},
   "outputs": [],
   "source": [
    "# Convert datasets to tensors for batch processing: https://colab.research.google.com/github/tensorflow/tensorboard/blob/master/docs/r2/get_started.ipynb#scrollTo=nnHx4DsMezy1\n",
    "#train_tensor=tf.data.Dataset.from_tensor_slices((training_data, np.array(training_labels)))\n",
    "#validation_tensor=tf.data.Dataset.from_tensor_slices((validation_data, np.array(validation_labels)))\n",
    "\n",
    "train_tensor=tf.data.Dataset.from_tensor_slices((training_data, training_labels_ohe))\n",
    "validation_tensor=tf.data.Dataset.from_tensor_slices((validation_data, validation_labels_ohe))\n",
    "\n",
    "train_tensor=train_tensor.shuffle(5).batch(1)\n",
    "validation_tensor=validation_tensor.shuffle(5).batch(1)"
   ]
  },
  {
   "cell_type": "code",
   "execution_count": 20,
   "metadata": {},
   "outputs": [
    {
     "data": {
      "text/plain": [
       "<BatchDataset shapes: ((None, 150, 200, 200, 1), (None, 2)), types: (tf.float32, tf.float32)>"
      ]
     },
     "execution_count": 20,
     "metadata": {},
     "output_type": "execute_result"
    }
   ],
   "source": [
    "train_tensor"
   ]
  },
  {
   "cell_type": "code",
   "execution_count": 21,
   "metadata": {},
   "outputs": [],
   "source": [
    "### Going to need to downsample data before running this, otherwise get OOM error ###\n",
    "def create_model():\n",
    "    \n",
    "    return tf.keras.models.Sequential([\n",
    "        tf.keras.layers.Convolution3D(filters=16, kernel_size=(3,3,3), name='conv1', input_shape=(150,200,200,1), padding='valid'),\n",
    "        #tf.keras.layers.Convolution3D(filters=32, kernel_size=(3,3,3), name='conv1', input_shape=(150,200,200,1), padding='valid'),\n",
    "        tf.keras.layers.MaxPool3D(pool_size=(2,2,2), name='pool1'),\n",
    "        tf.keras.layers.Convolution3D(filters=16, kernel_size=(3,3,3), name='conv2', padding='valid'),\n",
    "        tf.keras.layers.MaxPool3D(pool_size=(2,2,2), name='pool2'),\n",
    "        tf.keras.layers.Convolution3D(filters=16, kernel_size=(3,3,3), name='conv3', padding='valid'),\n",
    "        tf.keras.layers.MaxPool3D(pool_size=(2,2,2), name='pool3'),\n",
    "        tf.keras.layers.Flatten(),\n",
    "        tf.keras.layers.Dense(200, activation='relu', name='dense1'),\n",
    "        tf.keras.layers.Dropout(rate=0.5, name='dropout1'),\n",
    "        tf.keras.layers.Dense(2, activation='softmax', name='softmax')\n",
    "    ])\n",
    "\n",
    "model=create_model()"
   ]
  },
  {
   "cell_type": "code",
   "execution_count": 22,
   "metadata": {},
   "outputs": [],
   "source": [
    "model.compile(optimizer='adam',\n",
    "              loss='categorical_crossentropy',\n",
    "              metrics=['accuracy'])"
   ]
  },
  {
   "cell_type": "code",
   "execution_count": 23,
   "metadata": {},
   "outputs": [],
   "source": [
    "# From: https://colab.research.google.com/github/tensorflow/tensorboard/blob/master/docs/r2/get_started.ipynb#scrollTo=WAQThq539CEJ\n",
    "#loss_object = tf.keras.losses.SparseCategoricalCrossentropy()\n",
    "loss_object = tf.keras.losses.CategoricalCrossentropy()\n",
    "optimizer = tf.keras.optimizers.Adam()"
   ]
  },
  {
   "cell_type": "code",
   "execution_count": 24,
   "metadata": {},
   "outputs": [],
   "source": [
    "# Define our metrics\n",
    "train_loss = tf.keras.metrics.Mean('train_loss', dtype=tf.float32)\n",
    "#train_accuracy = tf.keras.metrics.SparseCategoricalAccuracy('train_accuracy')\n",
    "train_accuracy = tf.keras.metrics.CategoricalAccuracy('train_accuracy')\n",
    "test_loss = tf.keras.metrics.Mean('test_loss', dtype=tf.float32)\n",
    "#test_accuracy = tf.keras.metrics.SparseCategoricalAccuracy('test_accuracy')\n",
    "test_accuracy = tf.keras.metrics.CategoricalAccuracy('test_accuracy')"
   ]
  },
  {
   "cell_type": "code",
   "execution_count": 25,
   "metadata": {},
   "outputs": [],
   "source": [
    "def train_step(model, optimizer, x_train, y_train):\n",
    "  with tf.GradientTape() as tape:\n",
    "    predictions = model(x_train, training=True)\n",
    "    loss = loss_object(y_train, predictions)\n",
    "  grads = tape.gradient(loss, model.trainable_variables)\n",
    "  optimizer.apply_gradients(zip(grads, model.trainable_variables))\n",
    "\n",
    "  train_loss(loss)\n",
    "  train_accuracy(y_train, predictions)\n",
    "\n",
    "def test_step(model, x_test, y_test):\n",
    "  predictions = model(x_test)\n",
    "  loss = loss_object(y_test, predictions)\n",
    "\n",
    "  test_loss(loss)\n",
    "  test_accuracy(y_test, predictions)"
   ]
  },
  {
   "cell_type": "code",
   "execution_count": 26,
   "metadata": {},
   "outputs": [],
   "source": [
    "# Set up summary writers to write the summaries to disk in a different logs directory:\n",
    "current_time = datetime.datetime.now().strftime(\"%Y%m%d-%H%M%S\")\n",
    "train_log_dir = 'logs/gradient_tape/' + current_time + '/train'\n",
    "test_log_dir = 'logs/gradient_tape/' + current_time + '/test'\n",
    "train_summary_writer = tf.summary.create_file_writer(train_log_dir)\n",
    "test_summary_writer = tf.summary.create_file_writer(test_log_dir)"
   ]
  },
  {
   "cell_type": "code",
   "execution_count": 27,
   "metadata": {},
   "outputs": [
    {
     "name": "stdout",
     "output_type": "stream",
     "text": [
      "Epoch 1, Loss: 3.223618984222412, Accuracy: 80.0, Test Loss: 8.05904769897461, Test Accuracy: 50.0\n",
      "Epoch 2, Loss: 9.670857429504395, Accuracy: 40.0, Test Loss: 8.05904769897461, Test Accuracy: 50.0\n",
      "Epoch 3, Loss: 9.674468994140625, Accuracy: 40.0, Test Loss: 8.05904769897461, Test Accuracy: 50.0\n",
      "Epoch 4, Loss: 9.670857429504395, Accuracy: 40.0, Test Loss: 8.05904769897461, Test Accuracy: 50.0\n",
      "Epoch 5, Loss: 9.670857429504395, Accuracy: 40.0, Test Loss: 8.05904769897461, Test Accuracy: 50.0\n",
      "Epoch 6, Loss: 9.670857429504395, Accuracy: 40.0, Test Loss: 8.05904769897461, Test Accuracy: 50.0\n",
      "Epoch 7, Loss: 9.670857429504395, Accuracy: 40.0, Test Loss: 8.05904769897461, Test Accuracy: 50.0\n",
      "Epoch 8, Loss: 9.670857429504395, Accuracy: 40.0, Test Loss: 8.05904769897461, Test Accuracy: 50.0\n",
      "Epoch 9, Loss: 9.670857429504395, Accuracy: 40.0, Test Loss: 8.05904769897461, Test Accuracy: 50.0\n",
      "Epoch 10, Loss: 9.670857429504395, Accuracy: 40.0, Test Loss: 8.05904769897461, Test Accuracy: 50.0\n"
     ]
    }
   ],
   "source": [
    "# Troubleshooting dimensionality of tensor: https://stackoverflow.com/questions/47665391/keras-valueerror-input-0-is-incompatible-with-layer-conv2d-1-expected-ndim-4\n",
    "\n",
    "model = create_model() # reset our model\n",
    "\n",
    "EPOCHS = 10\n",
    "\n",
    "for epoch in range(EPOCHS):\n",
    "  for (x_train, y_train) in train_tensor:\n",
    "    train_step(model, optimizer, x_train, y_train)\n",
    "  with train_summary_writer.as_default():\n",
    "    tf.summary.scalar('loss', train_loss.result(), step=epoch)\n",
    "    tf.summary.scalar('accuracy', train_accuracy.result(), step=epoch)\n",
    "\n",
    "  for (x_test, y_test) in validation_tensor:\n",
    "    test_step(model, x_test, y_test)\n",
    "  with test_summary_writer.as_default():\n",
    "    tf.summary.scalar('loss', test_loss.result(), step=epoch)\n",
    "    tf.summary.scalar('accuracy', test_accuracy.result(), step=epoch)\n",
    "  \n",
    "  template = 'Epoch {}, Loss: {}, Accuracy: {}, Test Loss: {}, Test Accuracy: {}'\n",
    "  print (template.format(epoch+1,\n",
    "                         train_loss.result(), \n",
    "                         train_accuracy.result()*100,\n",
    "                         test_loss.result(), \n",
    "                         test_accuracy.result()*100))\n",
    "\n",
    "  # Reset metrics every epoch\n",
    "  train_loss.reset_states()\n",
    "  test_loss.reset_states()\n",
    "  train_accuracy.reset_states()\n",
    "  test_accuracy.reset_states()"
   ]
  },
  {
   "cell_type": "markdown",
   "metadata": {},
   "source": [
    "#### To do: \n",
    "- scale up to larger sample size\n",
    "- figure out how to run on GPU\n",
    "- more sophisticated network architecture"
   ]
  },
  {
   "cell_type": "code",
   "execution_count": null,
   "metadata": {},
   "outputs": [],
   "source": []
  }
 ],
 "metadata": {
  "kernelspec": {
   "display_name": "Python 3",
   "language": "python",
   "name": "python3"
  },
  "language_info": {
   "codemirror_mode": {
    "name": "ipython",
    "version": 3
   },
   "file_extension": ".py",
   "mimetype": "text/x-python",
   "name": "python",
   "nbconvert_exporter": "python",
   "pygments_lexer": "ipython3",
   "version": "3.6.6"
  }
 },
 "nbformat": 4,
 "nbformat_minor": 2
}
